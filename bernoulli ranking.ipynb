{
 "cells": [
  {
   "cell_type": "code",
   "execution_count": null,
   "metadata": {},
   "outputs": [],
   "source": [
    "import torch\n",
    "import pickle\n",
    "import matplotlib.pyplot as plt\n",
    "from data_loader import unsupervised_dataloaders\n",
    "from models.mlp import MLP, BernoulliMLP\n",
    "from models.train_models import MSELoss\n",
    "from models.spinn import BernoulliSPINN, make_schedule, train_model_sequence"
   ]
  },
  {
   "cell_type": "code",
   "execution_count": null,
   "metadata": {},
   "outputs": [],
   "source": [
    "# Load data\n",
    "device = torch.device('cuda:0')\n",
    "train_loader, val_loader, test_loader, mean, std, total_variance = unsupervised_dataloaders(\n",
    "    mean_adjustment=True,\n",
    "    normalization=True,\n",
    "    device=device)\n",
    "\n",
    "_, original_dim = train_loader.dataset.get_shape()\n",
    "print('Total variance = {:.4f}'.format(total_variance))"
   ]
  },
  {
   "cell_type": "code",
   "execution_count": null,
   "metadata": {},
   "outputs": [],
   "source": [
    "# Identify subsets of the following sizes\n",
    "num_variables_list = (5, 10, 20, 30, 40, 50, 60, 80, 100)"
   ]
  },
  {
   "cell_type": "markdown",
   "metadata": {},
   "source": [
    "# Perform feature selection (ranking)"
   ]
  },
  {
   "cell_type": "code",
   "execution_count": null,
   "metadata": {
    "scrolled": true
   },
   "outputs": [],
   "source": [
    "# Number of trials\n",
    "num_trials = 1\n",
    "trial_results = []\n",
    "\n",
    "for trial in range(num_trials):\n",
    "    # Create model\n",
    "    model = BernoulliMLP(original_dim,\n",
    "                         original_dim,\n",
    "                         hidden=[100, 100, 100, 100],\n",
    "                         activation='elu',\n",
    "                         p=0.01,\n",
    "                         reference=0,\n",
    "                         penalty='log').to(device=device)\n",
    "    \n",
    "    # Learn SPINN\n",
    "    spinn = BernoulliSPINN(model)\n",
    "    spinn.train_ranking(num_variables_list,\n",
    "                        train_loader,\n",
    "                        val_loader,\n",
    "                        lr=1e-3,\n",
    "                        mbsize=256,\n",
    "                        nepochs=250,\n",
    "                        lam=1.0,\n",
    "                        check_every=250)\n",
    "\n",
    "    # Record subsets\n",
    "    trial_results.append([{'inds': subset} for subset in spinn.subsets])\n",
    "    print('Done with trial {}'.format(trial))"
   ]
  },
  {
   "cell_type": "markdown",
   "metadata": {},
   "source": [
    "# Train debiased models"
   ]
  },
  {
   "cell_type": "code",
   "execution_count": null,
   "metadata": {},
   "outputs": [],
   "source": [
    "m = max(num_variables_list)\n",
    "for results in trial_results:\n",
    "    model = MLP(m,\n",
    "                original_dim - m,\n",
    "                hidden=[100, 100, 100, 100],\n",
    "                activation='elu').to(device=device)\n",
    "\n",
    "    train_model_sequence(results,\n",
    "                         model,\n",
    "                         train_loader,\n",
    "                         val_loader,\n",
    "                         test_loader,\n",
    "                         lr=1e-3,\n",
    "                         mbsize=256,\n",
    "                         nepochs=250,\n",
    "                         check_every=250,\n",
    "                         lookback=20,\n",
    "                         task_name='reconstruction')"
   ]
  },
  {
   "cell_type": "code",
   "execution_count": null,
   "metadata": {},
   "outputs": [],
   "source": [
    "# Plot results\n",
    "fig, axarr = plt.subplots(1, 2, figsize=(16, 6), sharey=True)\n",
    "\n",
    "for results in trial_results:\n",
    "    axarr[0].plot(num_variables_list,\n",
    "                  [result['reconstruction']['train'] / total_variance for result in results],\n",
    "                  color='C0', alpha=0.5)\n",
    "axarr[0].set_title('Train')\n",
    "\n",
    "for results in trial_results:\n",
    "    axarr[1].plot(num_variables_list,\n",
    "                  [result['reconstruction']['val'] / total_variance for result in results],\n",
    "                  color='C0', alpha=0.5)\n",
    "axarr[1].set_title('Val')\n",
    "\n",
    "plt.ylim(0.62, 0.75)\n",
    "\n",
    "plt.tight_layout()\n",
    "plt.show()"
   ]
  },
  {
   "cell_type": "code",
   "execution_count": null,
   "metadata": {},
   "outputs": [],
   "source": [
    "save_dict = {\n",
    "    'total_variance': total_variance,\n",
    "    'num_variables': num_variables_list,\n",
    "    'trial_results': trial_results\n",
    "}\n",
    "\n",
    "with open('bernoulli spinn ranking results.pkl', 'wb') as f:\n",
    "    pickle.dump(save_dict, f)"
   ]
  },
  {
   "cell_type": "code",
   "execution_count": null,
   "metadata": {},
   "outputs": [],
   "source": []
  }
 ],
 "metadata": {
  "kernelspec": {
   "display_name": "Python 3",
   "language": "python",
   "name": "python3"
  },
  "language_info": {
   "codemirror_mode": {
    "name": "ipython",
    "version": 3
   },
   "file_extension": ".py",
   "mimetype": "text/x-python",
   "name": "python",
   "nbconvert_exporter": "python",
   "pygments_lexer": "ipython3",
   "version": "3.6.5"
  }
 },
 "nbformat": 4,
 "nbformat_minor": 2
}
